{
 "cells": [
  {
   "cell_type": "code",
   "execution_count": 1,
   "id": "1010708c",
   "metadata": {},
   "outputs": [],
   "source": [
    "import pandas as pd"
   ]
  },
  {
   "cell_type": "code",
   "execution_count": null,
   "id": "61ef11a1",
   "metadata": {},
   "outputs": [],
   "source": [
    "\n",
    "df = pd.read_csv(\"similarity_scored_news.csv\")"
   ]
  },
  {
   "cell_type": "code",
   "execution_count": null,
   "id": "ac36339a",
   "metadata": {},
   "outputs": [],
   "source": [
    "\n",
    "top_n = 10\n",
    "recommendations = df.sort_values(by='similarity', ascending=False).head(top_n)"
   ]
  },
  {
   "cell_type": "code",
   "execution_count": null,
   "id": "0f39739a",
   "metadata": {},
   "outputs": [
    {
     "data": {
      "text/html": [
       "<div>\n",
       "<style scoped>\n",
       "    .dataframe tbody tr th:only-of-type {\n",
       "        vertical-align: middle;\n",
       "    }\n",
       "\n",
       "    .dataframe tbody tr th {\n",
       "        vertical-align: top;\n",
       "    }\n",
       "\n",
       "    .dataframe thead th {\n",
       "        text-align: right;\n",
       "    }\n",
       "</style>\n",
       "<table border=\"1\" class=\"dataframe\">\n",
       "  <thead>\n",
       "    <tr style=\"text-align: right;\">\n",
       "      <th></th>\n",
       "      <th>title</th>\n",
       "      <th>similarity</th>\n",
       "    </tr>\n",
       "  </thead>\n",
       "  <tbody>\n",
       "    <tr>\n",
       "      <th>10060</th>\n",
       "      <td>Scientists and researchers reveal 13 dark tech...</td>\n",
       "      <td>0.353794</td>\n",
       "    </tr>\n",
       "    <tr>\n",
       "      <th>48427</th>\n",
       "      <td>Microsoft AI helps diagnose cervical cancer fa...</td>\n",
       "      <td>0.285148</td>\n",
       "    </tr>\n",
       "    <tr>\n",
       "      <th>19341</th>\n",
       "      <td>Register for Wednesday's Aging &amp; Innovation Su...</td>\n",
       "      <td>0.263386</td>\n",
       "    </tr>\n",
       "    <tr>\n",
       "      <th>16907</th>\n",
       "      <td>Foxconn gets permit to remodel Racine building...</td>\n",
       "      <td>0.253139</td>\n",
       "    </tr>\n",
       "    <tr>\n",
       "      <th>46874</th>\n",
       "      <td>Intel unveils its first chips built for AI in ...</td>\n",
       "      <td>0.241558</td>\n",
       "    </tr>\n",
       "    <tr>\n",
       "      <th>4996</th>\n",
       "      <td>America's cheapest cities where everyone wants...</td>\n",
       "      <td>0.238478</td>\n",
       "    </tr>\n",
       "    <tr>\n",
       "      <th>36386</th>\n",
       "      <td>Ask These 7 Genius Questions to Spark Innovati...</td>\n",
       "      <td>0.236589</td>\n",
       "    </tr>\n",
       "    <tr>\n",
       "      <th>3736</th>\n",
       "      <td>Technology could end drunk driving, and the US...</td>\n",
       "      <td>0.220126</td>\n",
       "    </tr>\n",
       "    <tr>\n",
       "      <th>39847</th>\n",
       "      <td>Ai Suzuki has 3-stroke lead over Gaby Lopez in...</td>\n",
       "      <td>0.215454</td>\n",
       "    </tr>\n",
       "    <tr>\n",
       "      <th>23108</th>\n",
       "      <td>Google debuts new Pixel 4 smartphone and more</td>\n",
       "      <td>0.193792</td>\n",
       "    </tr>\n",
       "  </tbody>\n",
       "</table>\n",
       "</div>"
      ],
      "text/plain": [
       "                                                   title  similarity\n",
       "10060  Scientists and researchers reveal 13 dark tech...    0.353794\n",
       "48427  Microsoft AI helps diagnose cervical cancer fa...    0.285148\n",
       "19341  Register for Wednesday's Aging & Innovation Su...    0.263386\n",
       "16907  Foxconn gets permit to remodel Racine building...    0.253139\n",
       "46874  Intel unveils its first chips built for AI in ...    0.241558\n",
       "4996   America's cheapest cities where everyone wants...    0.238478\n",
       "36386  Ask These 7 Genius Questions to Spark Innovati...    0.236589\n",
       "3736   Technology could end drunk driving, and the US...    0.220126\n",
       "39847  Ai Suzuki has 3-stroke lead over Gaby Lopez in...    0.215454\n",
       "23108      Google debuts new Pixel 4 smartphone and more    0.193792"
      ]
     },
     "execution_count": 4,
     "metadata": {},
     "output_type": "execute_result"
    }
   ],
   "source": [
    "\n",
    "recommendations[['title', 'similarity']]"
   ]
  },
  {
   "cell_type": "code",
   "execution_count": null,
   "id": "e46f43df",
   "metadata": {},
   "outputs": [],
   "source": [
    "\n",
    "recommendations.to_csv(\"sample_recommendations.csv\", index=False)"
   ]
  }
 ],
 "metadata": {
  "kernelspec": {
   "display_name": "Python 3",
   "language": "python",
   "name": "python3"
  },
  "language_info": {
   "codemirror_mode": {
    "name": "ipython",
    "version": 3
   },
   "file_extension": ".py",
   "mimetype": "text/x-python",
   "name": "python",
   "nbconvert_exporter": "python",
   "pygments_lexer": "ipython3",
   "version": "3.10.0"
  }
 },
 "nbformat": 4,
 "nbformat_minor": 5
}
